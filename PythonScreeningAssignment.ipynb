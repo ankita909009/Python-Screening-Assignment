{
 "cells": [
  {
   "cell_type": "markdown",
   "id": "676398b6",
   "metadata": {},
   "source": [
    "# 1 - Create a function in python to read the text file and replace specific content of the file .\n",
    "\n",
    "## ========================================================\n",
    "## File name                      = example.txt\n",
    "## Original file content     = This is a placement assignment\n",
    "## Replace string              = placement should be replaced by screening\n",
    "## Replaced file content   = This is a screening assignment\n",
    "## ========================================================\n",
    "\n",
    "## Ans - "
   ]
  },
  {
   "cell_type": "code",
   "execution_count": 6,
   "id": "541bc0f2",
   "metadata": {},
   "outputs": [],
   "source": [
    "\n",
    "filein  = open(\"example.txt\" , \"rt\")                   # for reading the input file\n",
    "content = filein.read()                                # for reading file contents to string\n",
    "content = content.replace(\"placement\" , \"screening\")   # for replacing the string\n",
    "filein.close()                                         # for closing the input file\n",
    "filein  = open(\"example.txt\" , \"wt\")                   # for opening the file in write mode\n",
    "filein.write(content)                                  # for overrighting the input file with the resulting data\n",
    "filein.close()                                         # for closing the opening file"
   ]
  },
  {
   "cell_type": "markdown",
   "id": "9a9bf683",
   "metadata": {},
   "source": [
    "# 2 - Demonstrate use of abstract class , multiple inheritance and decorator in python using examples.\n",
    "\n",
    "## Ans - "
   ]
  },
  {
   "cell_type": "markdown",
   "id": "e1e99beb",
   "metadata": {},
   "source": [
    "## Abstract class \n",
    "\n",
    "### In OOP(object-oriented programming) abstract class can not be instantiated , so you can create classes that inherit from an abstract class. Generally we use abstract class to create blueprint for other classes.\n",
    "\n",
    "### Astract class allows you to create a set of methods that must be created within  any child classes built from  the abstract class .\n",
    "\n",
    "###  An abstract class may or may not include abstract methods . Python doesn't directly support  abstract classes but it provide module that allows to define abstract classes ."
   ]
  },
  {
   "cell_type": "code",
   "execution_count": 1,
   "id": "e59c07a1",
   "metadata": {},
   "outputs": [
    {
     "name": "stdout",
     "output_type": "stream",
     "text": [
      " The top speed of the BMW is : 250\n",
      " THe top speed of Audi is : 230\n",
      " The top speed of Honda is : 199\n",
      " The top speed of Hyundai is : 189\n"
     ]
    }
   ],
   "source": [
    "from abc import ABC , abstractmethod\n",
    "class Car(ABC):\n",
    "    def TopSpeed(self):\n",
    "        pass\n",
    "    \n",
    "class BMW(Car):\n",
    "    def TopSpeed(self):\n",
    "        print(\" The top speed of the BMW is : {}\".format(250))\n",
    "class Audi(Car):\n",
    "    def TopSpeed(self):\n",
    "        print( \" THe top speed of Audi is : {}\".format(230))\n",
    "class Honda(Car):\n",
    "    def TopSpeed(self):\n",
    "        print(\" The top speed of Honda is : {}\".format(199))\n",
    "class Hyundai(Car):\n",
    "    def TopSpeed(self):\n",
    "        print(\" The top speed of Hyundai is : {}\".format(189))\n",
    "        \n",
    "# Driver code\n",
    "b = BMW()\n",
    "b.TopSpeed()\n",
    "\n",
    "a = Audi()\n",
    "a.TopSpeed()\n",
    "\n",
    "h = Honda()\n",
    "h.TopSpeed()\n",
    "\n",
    "y = Hyundai()\n",
    "y.TopSpeed()"
   ]
  },
  {
   "cell_type": "markdown",
   "id": "21e09fe6",
   "metadata": {},
   "source": [
    "## Multiple inheritance"
   ]
  },
  {
   "cell_type": "markdown",
   "id": "7f27602d",
   "metadata": {},
   "source": [
    "##  The inheritance which contain multiple base classes and single derived classes is called multiple inheritance . The derives class inherits all the features of the base class.\n",
    "\n",
    "## Multiple inheritance is useful when a subclass needs to combine multiple contracts and inherit some , or all , of the implementaion of those contracts . \n",
    "\n"
   ]
  },
  {
   "cell_type": "code",
   "execution_count": 1,
   "id": "e35e8f57",
   "metadata": {},
   "outputs": [
    {
     "name": "stdout",
     "output_type": "stream",
     "text": [
      "57\n",
      "4816\n",
      "4.0\n"
     ]
    }
   ],
   "source": [
    "class Cal1:                    # Base class \n",
    "    def Sum(self , x, y):\n",
    "        return x+y;\n",
    "class Cal2:                    # Base class \n",
    "    def Mul(self , x , y):\n",
    "        return x*y;\n",
    "\n",
    "class Child(Cal1,Cal2):        # Derived class\n",
    "    def Div(self , x , y):\n",
    "        return x/y;\n",
    "\n",
    "d = Child()\n",
    "print(d.Sum(23,34))\n",
    "print(d.Mul(56,86))\n",
    "print(d.Div(12,3))\n"
   ]
  },
  {
   "cell_type": "markdown",
   "id": "56599bd5",
   "metadata": {},
   "source": [
    "# Decorator \n",
    "\n",
    "## A decorator is a design patteren that allows a user to add a new functionality to an existing object without modifying its structure. Generally decorators are called before the defination of a function that you want to decorate.\n",
    "\n",
    "## Decorators are very useful tool in python since it allows programmers to modify the behaviour of a function or class. Decorators allow us to wrap another function in order to extend the behaviour of the wrapped function without permanently modifying it. "
   ]
  },
  {
   "cell_type": "code",
   "execution_count": 3,
   "id": "c9764a8d",
   "metadata": {},
   "outputs": [
    {
     "name": "stdout",
     "output_type": "stream",
     "text": [
      "Hii , What is your father's name ?\n",
      "My name is ankita mahapatra , i am from bhubaneswar !\n"
     ]
    }
   ],
   "source": [
    "def decorator(fun):\n",
    "    def w_function():                               # wrapper functon\n",
    "        print(\"Hii , What is your father's name ?\")\n",
    "        fun()\n",
    "    return w_function;\n",
    "@decorator\n",
    "def mymessage():                                    # Function calling\n",
    "    print(\"My name is ankita mahapatra , i am from bhubaneswar !\")\n",
    "mymessage()"
   ]
  },
  {
   "cell_type": "code",
   "execution_count": null,
   "id": "1258b541",
   "metadata": {},
   "outputs": [],
   "source": []
  }
 ],
 "metadata": {
  "kernelspec": {
   "display_name": "Python 3",
   "language": "python",
   "name": "python3"
  },
  "language_info": {
   "codemirror_mode": {
    "name": "ipython",
    "version": 3
   },
   "file_extension": ".py",
   "mimetype": "text/x-python",
   "name": "python",
   "nbconvert_exporter": "python",
   "pygments_lexer": "ipython3",
   "version": "3.9.5"
  }
 },
 "nbformat": 4,
 "nbformat_minor": 5
}
